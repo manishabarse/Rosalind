{
 "cells": [
  {
   "cell_type": "markdown",
   "id": "7f431dc9",
   "metadata": {},
   "source": [
    "# Rosalind - Python Village Solutions"
   ]
  },
  {
   "cell_type": "markdown",
   "id": "9f6d8a0b",
   "metadata": {},
   "source": [
    "**INI1:** After downloading and installing Python, type import this into the Python command line and see what happens. Then, click the \"Download dataset\" button below and copy the Zen of Python into the space provided."
   ]
  },
  {
   "cell_type": "code",
   "execution_count": 1,
   "id": "49d92721",
   "metadata": {},
   "outputs": [
    {
     "name": "stdout",
     "output_type": "stream",
     "text": [
      "The Zen of Python, by Tim Peters\n",
      "\n",
      "Beautiful is better than ugly.\n",
      "Explicit is better than implicit.\n",
      "Simple is better than complex.\n",
      "Complex is better than complicated.\n",
      "Flat is better than nested.\n",
      "Sparse is better than dense.\n",
      "Readability counts.\n",
      "Special cases aren't special enough to break the rules.\n",
      "Although practicality beats purity.\n",
      "Errors should never pass silently.\n",
      "Unless explicitly silenced.\n",
      "In the face of ambiguity, refuse the temptation to guess.\n",
      "There should be one-- and preferably only one --obvious way to do it.\n",
      "Although that way may not be obvious at first unless you're Dutch.\n",
      "Now is better than never.\n",
      "Although never is often better than *right* now.\n",
      "If the implementation is hard to explain, it's a bad idea.\n",
      "If the implementation is easy to explain, it may be a good idea.\n",
      "Namespaces are one honking great idea -- let's do more of those!\n"
     ]
    }
   ],
   "source": [
    "import this"
   ]
  },
  {
   "cell_type": "markdown",
   "id": "59ba4548",
   "metadata": {},
   "source": [
    "The **\"import this\"** command in Python imports and displays **\"The Zen of Python,\"** which is a collection of aphorisms that capture the philosophy of the Python language, written by Tim Peters. When you type import this in a Python command line or script, it outputs these aphorisms."
   ]
  },
  {
   "cell_type": "code",
   "execution_count": null,
   "id": "2db229ba",
   "metadata": {},
   "outputs": [],
   "source": []
  },
  {
   "cell_type": "markdown",
   "id": "76b7c3c4",
   "metadata": {},
   "source": [
    "**INI2: Variables and Some Arithmetic**  \n",
    "Given: Two positive integers a and b, each less than 1000.   \n",
    "Return: The integer corresponding to the square of the hypotenuse of the right triangle whose legs have lengths a\n",
    "and b"
   ]
  },
  {
   "cell_type": "code",
   "execution_count": 2,
   "id": "67096a42",
   "metadata": {},
   "outputs": [
    {
     "name": "stdout",
     "output_type": "stream",
     "text": [
      "Enter two positive integers separated by a space: 12 5\n",
      "The square of the hypotenuse is: 169\n"
     ]
    }
   ],
   "source": [
    "# Read User input with 'map'\n",
    "a, b = map(int,input(\"Enter two positive integers separated by a space: \").split())\n",
    "\n",
    "# Method 2 for user input with list comprehension \n",
    "# a, b = [int(x) for x in input(\"Enter two positive integers a and b, separated by a space: \").split()]\n",
    "\n",
    "# Calculate the Hypotenuse\n",
    "hypotenuse_square = a**2 + b**2\n",
    "\n",
    "#Print the result\n",
    "print(f'The square of the hypotenuse is: {hypotenuse_square}')"
   ]
  },
  {
   "cell_type": "code",
   "execution_count": null,
   "id": "243e086d",
   "metadata": {},
   "outputs": [],
   "source": []
  },
  {
   "cell_type": "markdown",
   "id": "a8216247",
   "metadata": {},
   "source": [
    "**INI3: Strings and Lists**    \n",
    "Given: A string s of length at most 200 letters and four integers a, b, c and d   \n",
    "Return: The slice of this string from indices a through b and c through d (with space in between), inclusively. In other words, we should include elements s[b] and s[d] in our slice"
   ]
  },
  {
   "cell_type": "code",
   "execution_count": 3,
   "id": "ad6edd0d",
   "metadata": {},
   "outputs": [
    {
     "name": "stdout",
     "output_type": "stream",
     "text": [
      "stringislon efghijklmno\n"
     ]
    }
   ],
   "source": [
    "def slice_string(s, a, b, c, d):\n",
    "    # Extract the desired slices\n",
    "    slice1 = s[a:b+1]  # Adding 1 to include s[b]\n",
    "    slice2 = s[c:d+1]  # Adding 1 to include s[d]\n",
    "    \n",
    "    # Combine slices with a space in between\n",
    "    result = slice1 + ' ' + slice2\n",
    "    \n",
    "    return result\n",
    "\n",
    "\n",
    "# Sample Dataset\n",
    "s ='ThissamplestringislongenoughtotesttheslicingfunctionproperlyABCDEFGHIJKLMNOPQRSTUVWXYZabcdefghijklmnopqrstuvwxyz0123456789'\n",
    "a, b, c, d = 10, 20, 90, 100\n",
    "\n",
    "\n",
    "output = slice_string(s, a, b, c, d)\n",
    "print(output)\n"
   ]
  },
  {
   "cell_type": "code",
   "execution_count": null,
   "id": "5897fc35",
   "metadata": {},
   "outputs": [],
   "source": []
  },
  {
   "cell_type": "markdown",
   "id": "75dc12ef",
   "metadata": {},
   "source": [
    "**INI4: Conditions and Loops**    \n",
    "Given: Two positive integers a and b (a<b<10000).   \n",
    "Return: The sum of all odd integers from a through b, inclusively."
   ]
  },
  {
   "cell_type": "code",
   "execution_count": 4,
   "id": "f127b65d",
   "metadata": {},
   "outputs": [
    {
     "name": "stdout",
     "output_type": "stream",
     "text": [
      "187500\n"
     ]
    }
   ],
   "source": [
    "def sum_of_odds(a, b):\n",
    "    return sum([x for x in range(a, b+1) if x%2 != 0])\n",
    "\n",
    "a = 500\n",
    "b = 1000\n",
    "\n",
    "output = sum_of_odds(a, b)\n",
    "print(output)"
   ]
  },
  {
   "cell_type": "code",
   "execution_count": null,
   "id": "d8c6449e",
   "metadata": {},
   "outputs": [],
   "source": []
  },
  {
   "cell_type": "markdown",
   "id": "e8df9288",
   "metadata": {},
   "source": [
    "**INI5: Working with files**  \n",
    "Given: A file containing at most 1000 lines.  \n",
    "Return: A file containing all the even-numbered lines from the original file. Assume 1-based numbering of lines."
   ]
  },
  {
   "cell_type": "code",
   "execution_count": 5,
   "id": "3cb6a257",
   "metadata": {},
   "outputs": [
    {
     "name": "stdout",
     "output_type": "stream",
     "text": [
      "Some things in life are bad, they can really make you mad\n",
      "Other things just make you swear and curse\n",
      "When you're chewing on life's gristle, don't grumble give a whistle\n",
      "This will help things turn out for the best\n",
      "Always look on the bright side of life\n",
      "Always look on the right side of life\n",
      "If life seems jolly rotten, there's something you've forgotten\n",
      "And that's to laugh and smile and dance and sing\n",
      "When you're feeling in the dumps, don't be silly, chumps\n",
      "Just purse your lips and whistle, that's the thing\n",
      "So, always look on the bright side of death\n",
      "Just before you draw your terminal breath\n",
      "Life's a counterfeit and when you look at it\n",
      "Life's a laugh and death's the joke, it's true\n",
      "You see, it's all a show, keep them laughing as you go\n",
      "Just remember the last laugh is on you\n",
      "Always look on the bright side of life\n",
      "And always look on the right side of life\n",
      "Always look on the bright side of life\n",
      "And always look on the right side of life\n"
     ]
    }
   ],
   "source": [
    "def even_lines(lines):\n",
    "    return [lines[x] for x in range(len(lines)) if x%2 !=0]\n",
    "\n",
    "with open(\"rosalind_ini5.txt\", \"r\") as f:\n",
    "    lines = f.readlines()\n",
    "even_lines = even_lines(lines)\n",
    "print(\"\".join(even_lines))"
   ]
  },
  {
   "cell_type": "code",
   "execution_count": null,
   "id": "3920bcd2",
   "metadata": {},
   "outputs": [],
   "source": []
  },
  {
   "cell_type": "markdown",
   "id": "69c29f43",
   "metadata": {},
   "source": [
    "**INI6: Python Dictionary**  \n",
    "Given: A string s of length at most 10000 letters.  \n",
    "Return: The number of occurrences of each word in s, where words are separated by spaces. Words are case-sensitive, and the lines in the output can be in any order."
   ]
  },
  {
   "cell_type": "code",
   "execution_count": 6,
   "id": "aeaaf8ad",
   "metadata": {},
   "outputs": [
    {
     "name": "stdout",
     "output_type": "stream",
     "text": [
      "Rosalind 2\n",
      "is 1\n",
      "a 4\n",
      "platform 2\n",
      "for 2\n",
      "learning 2\n",
      "bioinformatics 4\n",
      "through 1\n",
      "problem-solving. 1\n",
      "It 1\n",
      "offers 1\n",
      "collection 1\n",
      "of 1\n",
      "problems 1\n",
      "with 2\n",
      "varying 1\n",
      "difficulty 1\n",
      "levels 1\n",
      "that 1\n",
      "help 1\n",
      "sharpen 1\n",
      "skills 1\n",
      "in 5\n",
      "algorithms, 1\n",
      "data 1\n",
      "structures, 1\n",
      "and 8\n",
      "concepts. 1\n",
      "The 1\n",
      "provides 1\n",
      "hands-on 1\n",
      "approach 1\n",
      "to 4\n",
      "by 1\n",
      "requiring 1\n",
      "users 3\n",
      "implement 1\n",
      "solutions 2\n",
      "programming 1\n",
      "languages 1\n",
      "such 1\n",
      "as 1\n",
      "Python, 1\n",
      "Java, 1\n",
      "or 1\n",
      "C++. 1\n",
      "Each 1\n",
      "problem 1\n",
      "typically 1\n",
      "comes 1\n",
      "description, 1\n",
      "input 1\n",
      "format, 1\n",
      "expected 1\n",
      "output, 1\n",
      "allowing 1\n",
      "test 1\n",
      "verify 1\n",
      "their 1\n",
      "against 1\n",
      "provided 1\n",
      "datasets. 1\n",
      "As 1\n",
      "progress, 1\n",
      "they 1\n",
      "gain 1\n",
      "insights 1\n",
      "into 1\n",
      "real-world 1\n",
      "challenges 1\n",
      "techniques 1\n",
      "used 1\n",
      "genomic 1\n",
      "analysis, 1\n",
      "sequence 1\n",
      "alignment, 1\n",
      "phylogenetics, 1\n",
      "more. 1\n",
      "aims 1\n",
      "bridge 1\n",
      "the 1\n",
      "gap 1\n",
      "between 1\n",
      "theory 1\n",
      "practice 1\n",
      "education, 1\n",
      "making 1\n",
      "it 1\n",
      "accessible 1\n",
      "engaging 1\n",
      "students, 1\n",
      "researchers, 1\n",
      "anyone 1\n",
      "interested 1\n",
      "computational 1\n",
      "biology. 1\n"
     ]
    }
   ],
   "source": [
    "def word_count_occurences(file_path):\n",
    "    # initialize an empty dictionary to store word counts\n",
    "    word_counts = {}\n",
    "    \n",
    "    # Read the contents of the file\n",
    "    with open(file_path, \"r\") as file:\n",
    "        s = file.read().strip() # Read and strip any surrounding whitespace\n",
    "        \n",
    "    # Split the string into words based on spaces\n",
    "    words = s.split()\n",
    "    \n",
    "    # Using dictionary comprehension to split words and word counts\n",
    "    word_count = {word: words.count(word) for word in words}\n",
    "    \n",
    "    print(\"\\n\".join(f\"{word} {count}\"for word, count in word_count.items()))\n",
    "    \n",
    "file_path = \"rosalind_ini6.txt\"\n",
    "word_count_occurences(file_path)"
   ]
  },
  {
   "cell_type": "code",
   "execution_count": null,
   "id": "011adcbd",
   "metadata": {},
   "outputs": [],
   "source": []
  }
 ],
 "metadata": {
  "kernelspec": {
   "display_name": "Python 3 (ipykernel)",
   "language": "python",
   "name": "python3"
  },
  "language_info": {
   "codemirror_mode": {
    "name": "ipython",
    "version": 3
   },
   "file_extension": ".py",
   "mimetype": "text/x-python",
   "name": "python",
   "nbconvert_exporter": "python",
   "pygments_lexer": "ipython3",
   "version": "3.9.12"
  }
 },
 "nbformat": 4,
 "nbformat_minor": 5
}
